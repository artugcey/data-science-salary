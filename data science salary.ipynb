{
 "cells": [
  {
   "cell_type": "code",
   "execution_count": 64,
   "id": "8b82e7a3",
   "metadata": {},
   "outputs": [],
   "source": [
    "import matplotlib.pyplot as plt\n",
    "import pandas as pd\n",
    "import numpy as np\n",
    "from sklearn import preprocessing\n",
    "from sklearn.linear_model import LogisticRegression\n",
    "from sklearn.model_selection import train_test_split\n",
    "from sklearn.neighbors import KNeighborsClassifier\n",
    "from sklearn.naive_bayes import GaussianNB\n",
    "from sklearn.svm import SVC\n",
    "from sklearn.tree import DecisionTreeClassifier\n",
    "from sklearn.ensemble import RandomForestClassifier\n",
    "from sklearn.preprocessing import StandardScaler\n",
    "from sklearn.metrics import confusion_matrix\n",
    "from sklearn.metrics import accuracy_score"
   ]
  },
  {
   "cell_type": "code",
   "execution_count": 2,
   "id": "96961488",
   "metadata": {},
   "outputs": [],
   "source": [
    "data = pd.read_csv('ds_salaries.csv')"
   ]
  },
  {
   "cell_type": "code",
   "execution_count": 3,
   "id": "ca94ca5f",
   "metadata": {},
   "outputs": [
    {
     "data": {
      "text/html": [
       "<div>\n",
       "<style scoped>\n",
       "    .dataframe tbody tr th:only-of-type {\n",
       "        vertical-align: middle;\n",
       "    }\n",
       "\n",
       "    .dataframe tbody tr th {\n",
       "        vertical-align: top;\n",
       "    }\n",
       "\n",
       "    .dataframe thead th {\n",
       "        text-align: right;\n",
       "    }\n",
       "</style>\n",
       "<table border=\"1\" class=\"dataframe\">\n",
       "  <thead>\n",
       "    <tr style=\"text-align: right;\">\n",
       "      <th></th>\n",
       "      <th>Unnamed: 0</th>\n",
       "      <th>work_year</th>\n",
       "      <th>experience_level</th>\n",
       "      <th>employment_type</th>\n",
       "      <th>job_title</th>\n",
       "      <th>salary</th>\n",
       "      <th>salary_currency</th>\n",
       "      <th>salary_in_usd</th>\n",
       "      <th>employee_residence</th>\n",
       "      <th>remote_ratio</th>\n",
       "      <th>company_location</th>\n",
       "      <th>company_size</th>\n",
       "    </tr>\n",
       "  </thead>\n",
       "  <tbody>\n",
       "    <tr>\n",
       "      <th>0</th>\n",
       "      <td>0</td>\n",
       "      <td>2020</td>\n",
       "      <td>MI</td>\n",
       "      <td>FT</td>\n",
       "      <td>Data Scientist</td>\n",
       "      <td>70000</td>\n",
       "      <td>EUR</td>\n",
       "      <td>79833</td>\n",
       "      <td>DE</td>\n",
       "      <td>0</td>\n",
       "      <td>DE</td>\n",
       "      <td>L</td>\n",
       "    </tr>\n",
       "    <tr>\n",
       "      <th>1</th>\n",
       "      <td>1</td>\n",
       "      <td>2020</td>\n",
       "      <td>SE</td>\n",
       "      <td>FT</td>\n",
       "      <td>Machine Learning Scientist</td>\n",
       "      <td>260000</td>\n",
       "      <td>USD</td>\n",
       "      <td>260000</td>\n",
       "      <td>JP</td>\n",
       "      <td>0</td>\n",
       "      <td>JP</td>\n",
       "      <td>S</td>\n",
       "    </tr>\n",
       "    <tr>\n",
       "      <th>2</th>\n",
       "      <td>2</td>\n",
       "      <td>2020</td>\n",
       "      <td>SE</td>\n",
       "      <td>FT</td>\n",
       "      <td>Big Data Engineer</td>\n",
       "      <td>85000</td>\n",
       "      <td>GBP</td>\n",
       "      <td>109024</td>\n",
       "      <td>GB</td>\n",
       "      <td>50</td>\n",
       "      <td>GB</td>\n",
       "      <td>M</td>\n",
       "    </tr>\n",
       "    <tr>\n",
       "      <th>3</th>\n",
       "      <td>3</td>\n",
       "      <td>2020</td>\n",
       "      <td>MI</td>\n",
       "      <td>FT</td>\n",
       "      <td>Product Data Analyst</td>\n",
       "      <td>20000</td>\n",
       "      <td>USD</td>\n",
       "      <td>20000</td>\n",
       "      <td>HN</td>\n",
       "      <td>0</td>\n",
       "      <td>HN</td>\n",
       "      <td>S</td>\n",
       "    </tr>\n",
       "    <tr>\n",
       "      <th>4</th>\n",
       "      <td>4</td>\n",
       "      <td>2020</td>\n",
       "      <td>SE</td>\n",
       "      <td>FT</td>\n",
       "      <td>Machine Learning Engineer</td>\n",
       "      <td>150000</td>\n",
       "      <td>USD</td>\n",
       "      <td>150000</td>\n",
       "      <td>US</td>\n",
       "      <td>50</td>\n",
       "      <td>US</td>\n",
       "      <td>L</td>\n",
       "    </tr>\n",
       "  </tbody>\n",
       "</table>\n",
       "</div>"
      ],
      "text/plain": [
       "   Unnamed: 0  work_year experience_level employment_type  \\\n",
       "0           0       2020               MI              FT   \n",
       "1           1       2020               SE              FT   \n",
       "2           2       2020               SE              FT   \n",
       "3           3       2020               MI              FT   \n",
       "4           4       2020               SE              FT   \n",
       "\n",
       "                    job_title  salary salary_currency  salary_in_usd  \\\n",
       "0              Data Scientist   70000             EUR          79833   \n",
       "1  Machine Learning Scientist  260000             USD         260000   \n",
       "2           Big Data Engineer   85000             GBP         109024   \n",
       "3        Product Data Analyst   20000             USD          20000   \n",
       "4   Machine Learning Engineer  150000             USD         150000   \n",
       "\n",
       "  employee_residence  remote_ratio company_location company_size  \n",
       "0                 DE             0               DE            L  \n",
       "1                 JP             0               JP            S  \n",
       "2                 GB            50               GB            M  \n",
       "3                 HN             0               HN            S  \n",
       "4                 US            50               US            L  "
      ]
     },
     "execution_count": 3,
     "metadata": {},
     "output_type": "execute_result"
    }
   ],
   "source": [
    "data.head()"
   ]
  },
  {
   "cell_type": "code",
   "execution_count": 4,
   "id": "9d6d876e",
   "metadata": {},
   "outputs": [],
   "source": [
    "data.drop('Unnamed: 0', axis = 1, inplace=True)"
   ]
  },
  {
   "cell_type": "code",
   "execution_count": 5,
   "id": "49c0e0e1",
   "metadata": {
    "scrolled": true
   },
   "outputs": [
    {
     "data": {
      "text/plain": [
       "Data Scientist                              143\n",
       "Data Engineer                               132\n",
       "Data Analyst                                 97\n",
       "Machine Learning Engineer                    41\n",
       "Research Scientist                           16\n",
       "Data Science Manager                         12\n",
       "Data Architect                               11\n",
       "Big Data Engineer                             8\n",
       "Machine Learning Scientist                    8\n",
       "Principal Data Scientist                      7\n",
       "AI Scientist                                  7\n",
       "Data Science Consultant                       7\n",
       "Director of Data Science                      7\n",
       "Data Analytics Manager                        7\n",
       "ML Engineer                                   6\n",
       "Computer Vision Engineer                      6\n",
       "BI Data Analyst                               6\n",
       "Lead Data Engineer                            6\n",
       "Data Engineering Manager                      5\n",
       "Business Data Analyst                         5\n",
       "Head of Data                                  5\n",
       "Applied Data Scientist                        5\n",
       "Applied Machine Learning Scientist            4\n",
       "Head of Data Science                          4\n",
       "Analytics Engineer                            4\n",
       "Data Analytics Engineer                       4\n",
       "Machine Learning Developer                    3\n",
       "Machine Learning Infrastructure Engineer      3\n",
       "Lead Data Scientist                           3\n",
       "Computer Vision Software Engineer             3\n",
       "Lead Data Analyst                             3\n",
       "Data Science Engineer                         3\n",
       "Principal Data Engineer                       3\n",
       "Principal Data Analyst                        2\n",
       "ETL Developer                                 2\n",
       "Product Data Analyst                          2\n",
       "Director of Data Engineering                  2\n",
       "Financial Data Analyst                        2\n",
       "Cloud Data Engineer                           2\n",
       "Lead Machine Learning Engineer                1\n",
       "NLP Engineer                                  1\n",
       "Head of Machine Learning                      1\n",
       "3D Computer Vision Researcher                 1\n",
       "Data Specialist                               1\n",
       "Staff Data Scientist                          1\n",
       "Big Data Architect                            1\n",
       "Finance Data Analyst                          1\n",
       "Marketing Data Analyst                        1\n",
       "Machine Learning Manager                      1\n",
       "Data Analytics Lead                           1\n",
       "Name: job_title, dtype: int64"
      ]
     },
     "execution_count": 5,
     "metadata": {},
     "output_type": "execute_result"
    }
   ],
   "source": [
    "data[\"job_title\"].value_counts()"
   ]
  },
  {
   "cell_type": "code",
   "execution_count": 49,
   "id": "5344be79",
   "metadata": {},
   "outputs": [
    {
     "data": {
      "text/plain": [
       "2022    318\n",
       "2021    217\n",
       "2020     72\n",
       "Name: work_year, dtype: int64"
      ]
     },
     "execution_count": 49,
     "metadata": {},
     "output_type": "execute_result"
    }
   ],
   "source": [
    "data[\"work_year\"].value_counts()"
   ]
  },
  {
   "cell_type": "code",
   "execution_count": 24,
   "id": "e42f5ce5",
   "metadata": {
    "scrolled": true
   },
   "outputs": [
    {
     "data": {
      "text/plain": [
       "M    326\n",
       "L    198\n",
       "S     83\n",
       "Name: company_size, dtype: int64"
      ]
     },
     "execution_count": 24,
     "metadata": {},
     "output_type": "execute_result"
    }
   ],
   "source": [
    "data[\"company_size\"].value_counts()"
   ]
  },
  {
   "cell_type": "code",
   "execution_count": 8,
   "id": "a99d50cf",
   "metadata": {},
   "outputs": [
    {
     "data": {
      "text/plain": [
       "FT    588\n",
       "PT     10\n",
       "CT      5\n",
       "FL      4\n",
       "Name: employment_type, dtype: int64"
      ]
     },
     "execution_count": 8,
     "metadata": {},
     "output_type": "execute_result"
    }
   ],
   "source": [
    "data['employment_type'].value_counts()"
   ]
  },
  {
   "cell_type": "code",
   "execution_count": 9,
   "id": "c5e66fba",
   "metadata": {
    "scrolled": true
   },
   "outputs": [
    {
     "data": {
      "text/html": [
       "<div>\n",
       "<style scoped>\n",
       "    .dataframe tbody tr th:only-of-type {\n",
       "        vertical-align: middle;\n",
       "    }\n",
       "\n",
       "    .dataframe tbody tr th {\n",
       "        vertical-align: top;\n",
       "    }\n",
       "\n",
       "    .dataframe thead th {\n",
       "        text-align: right;\n",
       "    }\n",
       "</style>\n",
       "<table border=\"1\" class=\"dataframe\">\n",
       "  <thead>\n",
       "    <tr style=\"text-align: right;\">\n",
       "      <th></th>\n",
       "      <th>work_year</th>\n",
       "      <th>experience_level</th>\n",
       "      <th>employment_type</th>\n",
       "      <th>job_title</th>\n",
       "      <th>salary</th>\n",
       "      <th>salary_currency</th>\n",
       "      <th>salary_in_usd</th>\n",
       "      <th>employee_residence</th>\n",
       "      <th>remote_ratio</th>\n",
       "      <th>company_location</th>\n",
       "      <th>company_size</th>\n",
       "    </tr>\n",
       "  </thead>\n",
       "  <tbody>\n",
       "    <tr>\n",
       "      <th>0</th>\n",
       "      <td>2020</td>\n",
       "      <td>MI</td>\n",
       "      <td>FT</td>\n",
       "      <td>Data Scientist</td>\n",
       "      <td>70000</td>\n",
       "      <td>EUR</td>\n",
       "      <td>79833</td>\n",
       "      <td>DE</td>\n",
       "      <td>0</td>\n",
       "      <td>DE</td>\n",
       "      <td>L</td>\n",
       "    </tr>\n",
       "    <tr>\n",
       "      <th>1</th>\n",
       "      <td>2020</td>\n",
       "      <td>SE</td>\n",
       "      <td>FT</td>\n",
       "      <td>Machine Learning Scientist</td>\n",
       "      <td>260000</td>\n",
       "      <td>USD</td>\n",
       "      <td>260000</td>\n",
       "      <td>JP</td>\n",
       "      <td>0</td>\n",
       "      <td>JP</td>\n",
       "      <td>S</td>\n",
       "    </tr>\n",
       "    <tr>\n",
       "      <th>2</th>\n",
       "      <td>2020</td>\n",
       "      <td>SE</td>\n",
       "      <td>FT</td>\n",
       "      <td>Big Data Engineer</td>\n",
       "      <td>85000</td>\n",
       "      <td>GBP</td>\n",
       "      <td>109024</td>\n",
       "      <td>GB</td>\n",
       "      <td>50</td>\n",
       "      <td>GB</td>\n",
       "      <td>M</td>\n",
       "    </tr>\n",
       "    <tr>\n",
       "      <th>3</th>\n",
       "      <td>2020</td>\n",
       "      <td>MI</td>\n",
       "      <td>FT</td>\n",
       "      <td>Product Data Analyst</td>\n",
       "      <td>20000</td>\n",
       "      <td>USD</td>\n",
       "      <td>20000</td>\n",
       "      <td>HN</td>\n",
       "      <td>0</td>\n",
       "      <td>HN</td>\n",
       "      <td>S</td>\n",
       "    </tr>\n",
       "    <tr>\n",
       "      <th>4</th>\n",
       "      <td>2020</td>\n",
       "      <td>SE</td>\n",
       "      <td>FT</td>\n",
       "      <td>Machine Learning Engineer</td>\n",
       "      <td>150000</td>\n",
       "      <td>USD</td>\n",
       "      <td>150000</td>\n",
       "      <td>US</td>\n",
       "      <td>50</td>\n",
       "      <td>US</td>\n",
       "      <td>L</td>\n",
       "    </tr>\n",
       "  </tbody>\n",
       "</table>\n",
       "</div>"
      ],
      "text/plain": [
       "   work_year experience_level employment_type                   job_title  \\\n",
       "0       2020               MI              FT              Data Scientist   \n",
       "1       2020               SE              FT  Machine Learning Scientist   \n",
       "2       2020               SE              FT           Big Data Engineer   \n",
       "3       2020               MI              FT        Product Data Analyst   \n",
       "4       2020               SE              FT   Machine Learning Engineer   \n",
       "\n",
       "   salary salary_currency  salary_in_usd employee_residence  remote_ratio  \\\n",
       "0   70000             EUR          79833                 DE             0   \n",
       "1  260000             USD         260000                 JP             0   \n",
       "2   85000             GBP         109024                 GB            50   \n",
       "3   20000             USD          20000                 HN             0   \n",
       "4  150000             USD         150000                 US            50   \n",
       "\n",
       "  company_location company_size  \n",
       "0               DE            L  \n",
       "1               JP            S  \n",
       "2               GB            M  \n",
       "3               HN            S  \n",
       "4               US            L  "
      ]
     },
     "execution_count": 9,
     "metadata": {},
     "output_type": "execute_result"
    }
   ],
   "source": [
    "data.head()"
   ]
  },
  {
   "cell_type": "code",
   "execution_count": 36,
   "id": "e2aa1351",
   "metadata": {},
   "outputs": [],
   "source": [
    "#data.drop('salary', axis = 1, inplace=True)\n",
    "#data.drop('salary_currency', axis = 1, inplace=True)\n",
    "data.drop('employee_residence',axis=1,inplace=True)"
   ]
  },
  {
   "cell_type": "code",
   "execution_count": 37,
   "id": "660a2c2a",
   "metadata": {
    "scrolled": true
   },
   "outputs": [
    {
     "data": {
      "text/html": [
       "<div>\n",
       "<style scoped>\n",
       "    .dataframe tbody tr th:only-of-type {\n",
       "        vertical-align: middle;\n",
       "    }\n",
       "\n",
       "    .dataframe tbody tr th {\n",
       "        vertical-align: top;\n",
       "    }\n",
       "\n",
       "    .dataframe thead th {\n",
       "        text-align: right;\n",
       "    }\n",
       "</style>\n",
       "<table border=\"1\" class=\"dataframe\">\n",
       "  <thead>\n",
       "    <tr style=\"text-align: right;\">\n",
       "      <th></th>\n",
       "      <th>work_year</th>\n",
       "      <th>experience_level</th>\n",
       "      <th>employment_type</th>\n",
       "      <th>job_title</th>\n",
       "      <th>salary_in_usd</th>\n",
       "      <th>remote_ratio</th>\n",
       "      <th>company_location</th>\n",
       "      <th>company_size</th>\n",
       "    </tr>\n",
       "  </thead>\n",
       "  <tbody>\n",
       "    <tr>\n",
       "      <th>0</th>\n",
       "      <td>2020</td>\n",
       "      <td>MI</td>\n",
       "      <td>FT</td>\n",
       "      <td>Data Scientist</td>\n",
       "      <td>79833</td>\n",
       "      <td>0</td>\n",
       "      <td>DE</td>\n",
       "      <td>L</td>\n",
       "    </tr>\n",
       "    <tr>\n",
       "      <th>1</th>\n",
       "      <td>2020</td>\n",
       "      <td>SE</td>\n",
       "      <td>FT</td>\n",
       "      <td>Machine Learning Scientist</td>\n",
       "      <td>260000</td>\n",
       "      <td>0</td>\n",
       "      <td>JP</td>\n",
       "      <td>S</td>\n",
       "    </tr>\n",
       "    <tr>\n",
       "      <th>2</th>\n",
       "      <td>2020</td>\n",
       "      <td>SE</td>\n",
       "      <td>FT</td>\n",
       "      <td>Big Data Engineer</td>\n",
       "      <td>109024</td>\n",
       "      <td>50</td>\n",
       "      <td>GB</td>\n",
       "      <td>M</td>\n",
       "    </tr>\n",
       "    <tr>\n",
       "      <th>3</th>\n",
       "      <td>2020</td>\n",
       "      <td>MI</td>\n",
       "      <td>FT</td>\n",
       "      <td>Product Data Analyst</td>\n",
       "      <td>20000</td>\n",
       "      <td>0</td>\n",
       "      <td>HN</td>\n",
       "      <td>S</td>\n",
       "    </tr>\n",
       "    <tr>\n",
       "      <th>4</th>\n",
       "      <td>2020</td>\n",
       "      <td>SE</td>\n",
       "      <td>FT</td>\n",
       "      <td>Machine Learning Engineer</td>\n",
       "      <td>150000</td>\n",
       "      <td>50</td>\n",
       "      <td>US</td>\n",
       "      <td>L</td>\n",
       "    </tr>\n",
       "  </tbody>\n",
       "</table>\n",
       "</div>"
      ],
      "text/plain": [
       "   work_year experience_level employment_type                   job_title  \\\n",
       "0       2020               MI              FT              Data Scientist   \n",
       "1       2020               SE              FT  Machine Learning Scientist   \n",
       "2       2020               SE              FT           Big Data Engineer   \n",
       "3       2020               MI              FT        Product Data Analyst   \n",
       "4       2020               SE              FT   Machine Learning Engineer   \n",
       "\n",
       "   salary_in_usd  remote_ratio company_location company_size  \n",
       "0          79833             0               DE            L  \n",
       "1         260000             0               JP            S  \n",
       "2         109024            50               GB            M  \n",
       "3          20000             0               HN            S  \n",
       "4         150000            50               US            L  "
      ]
     },
     "execution_count": 37,
     "metadata": {},
     "output_type": "execute_result"
    }
   ],
   "source": [
    "data.head()"
   ]
  },
  {
   "cell_type": "markdown",
   "id": "e2dc1282",
   "metadata": {},
   "source": [
    "### Salary Predict"
   ]
  },
  {
   "cell_type": "code",
   "execution_count": 38,
   "id": "5a8092ea",
   "metadata": {},
   "outputs": [],
   "source": [
    "workyear = data.iloc[:,0:1].values#\n",
    "explevel = data.iloc[:,1:2].values#\n",
    "emptyp = data.iloc[:,2:3].values#\n",
    "job = data.iloc[:,3:4].values#\n",
    "salary_usd = data.iloc[:,4:5].values#\n",
    "rem_ratio = data.iloc[:,5:6].values\n",
    "comp_loc = data.iloc[:,6:7].values\n",
    "comp_size = data.iloc[:,7:8].values"
   ]
  },
  {
   "cell_type": "markdown",
   "id": "e3d21e55",
   "metadata": {},
   "source": [
    "### Digitizing categorized data"
   ]
  },
  {
   "cell_type": "code",
   "execution_count": 50,
   "id": "5cc479ce",
   "metadata": {},
   "outputs": [],
   "source": [
    "ohe = preprocessing.OneHotEncoder()\n",
    "work_year = ohe.fit_transform(data.iloc[:,0:1]).toarray()\n",
    "level = ohe.fit_transform(data.iloc[:,1:2]).toarray()\n",
    "etyp = ohe.fit_transform(data.iloc[:,2:3]).toarray()\n",
    "Job = ohe.fit_transform(data.iloc[:,3:4]).toarray()\n",
    "rratio = ohe.fit_transform(data.iloc[:,5:6]).toarray()\n",
    "cloc = ohe.fit_transform(data.iloc[:,6:7]).toarray()\n",
    "csize = ohe.fit_transform(data.iloc[:,7:8]).toarray()"
   ]
  },
  {
   "cell_type": "code",
   "execution_count": 51,
   "id": "c34eaa71",
   "metadata": {},
   "outputs": [],
   "source": [
    "workyear = pd.DataFrame(data=work_year,index=range(607),columns=['2022','2021','2020'])\n",
    "Level = pd.DataFrame(data=level,index=range(607),columns=['MI','SE','EN','EX'])\n",
    "Empt = pd.DataFrame(data=etyp,index=range(607),columns=['FT','PT','CT','FL'])\n",
    "JOB = pd.DataFrame(data=Job,index=range(607),columns=['DS','DE','DA','MLE','RS','DSM','DARCH','BDE','MLS','PDS','AIS','DSC','DoDS','DAM','MLEN','CVE','BIDA','LDE','DEM','BDA','HoD','ADS','AMLS','HoDS','ANE','DAEN','MLDE','MLIEN','LEADS','CVSE','LDAN','CVSE','LDANS','DSENG','PRDATA','PRDATAA','ETLD','PRODA','DoDAEN','FİDAA','CLDE','LMLEN','NLPEN','HoMALE','3DCVR','DASP','STDS','BİGDATAARC','FİNDA','MADA'])\n",
    "Rratio = pd.DataFrame(data=rratio,index=range(607),columns=['0','50','100'])\n",
    "Cloc = pd.DataFrame(data=cloc,index=range(607),columns=['US','GB','CA','DE','IN','FR','ES','GR','JP','NL','AT','PT','PL','LU','PK','BR','AE','MX','AU','TR','DK','IT','CZ','SI','RU','CH','NG','CN','BE','VN','EE','AS','DZ','MY','MD','KE','SG','CO','IR','CL','MT','IL','UA','IQ','RO','HR','NZ','HU','HN','IE'])\n",
    "Csize = pd.DataFrame(data=csize,index=range(607),columns=['S','M','L'])"
   ]
  },
  {
   "cell_type": "code",
   "execution_count": 52,
   "id": "b1665a62",
   "metadata": {
    "scrolled": true
   },
   "outputs": [
    {
     "name": "stdout",
     "output_type": "stream",
     "text": [
      "     2022  2021  2020   MI   SE   EN   EX\n",
      "0     1.0   0.0   0.0  0.0  0.0  1.0  0.0\n",
      "1     1.0   0.0   0.0  0.0  0.0  0.0  1.0\n",
      "2     1.0   0.0   0.0  0.0  0.0  0.0  1.0\n",
      "3     1.0   0.0   0.0  0.0  0.0  1.0  0.0\n",
      "4     1.0   0.0   0.0  0.0  0.0  0.0  1.0\n",
      "..    ...   ...   ...  ...  ...  ...  ...\n",
      "602   0.0   0.0   1.0  0.0  0.0  0.0  1.0\n",
      "603   0.0   0.0   1.0  0.0  0.0  0.0  1.0\n",
      "604   0.0   0.0   1.0  0.0  0.0  0.0  1.0\n",
      "605   0.0   0.0   1.0  0.0  0.0  0.0  1.0\n",
      "606   0.0   0.0   1.0  0.0  0.0  1.0  0.0\n",
      "\n",
      "[607 rows x 7 columns]\n"
     ]
    }
   ],
   "source": [
    "t = pd.concat([workyear,Level],axis=1)\n",
    "print(t)"
   ]
  },
  {
   "cell_type": "code",
   "execution_count": 53,
   "id": "fcca8281",
   "metadata": {},
   "outputs": [
    {
     "name": "stdout",
     "output_type": "stream",
     "text": [
      "     2022  2021  2020   MI   SE   EN   EX   FT   PT   CT   FL\n",
      "0     1.0   0.0   0.0  0.0  0.0  1.0  0.0  0.0  0.0  1.0  0.0\n",
      "1     1.0   0.0   0.0  0.0  0.0  0.0  1.0  0.0  0.0  1.0  0.0\n",
      "2     1.0   0.0   0.0  0.0  0.0  0.0  1.0  0.0  0.0  1.0  0.0\n",
      "3     1.0   0.0   0.0  0.0  0.0  1.0  0.0  0.0  0.0  1.0  0.0\n",
      "4     1.0   0.0   0.0  0.0  0.0  0.0  1.0  0.0  0.0  1.0  0.0\n",
      "..    ...   ...   ...  ...  ...  ...  ...  ...  ...  ...  ...\n",
      "602   0.0   0.0   1.0  0.0  0.0  0.0  1.0  0.0  0.0  1.0  0.0\n",
      "603   0.0   0.0   1.0  0.0  0.0  0.0  1.0  0.0  0.0  1.0  0.0\n",
      "604   0.0   0.0   1.0  0.0  0.0  0.0  1.0  0.0  0.0  1.0  0.0\n",
      "605   0.0   0.0   1.0  0.0  0.0  0.0  1.0  0.0  0.0  1.0  0.0\n",
      "606   0.0   0.0   1.0  0.0  0.0  1.0  0.0  0.0  0.0  1.0  0.0\n",
      "\n",
      "[607 rows x 11 columns]\n"
     ]
    }
   ],
   "source": [
    "t2 = pd.concat([t,Empt],axis=1)\n",
    "print(t2)"
   ]
  },
  {
   "cell_type": "code",
   "execution_count": 54,
   "id": "ffd0702e",
   "metadata": {},
   "outputs": [
    {
     "name": "stdout",
     "output_type": "stream",
     "text": [
      "     2022  2021  2020   MI   SE   EN   EX   FT   PT   CT  ...  CLDE  LMLEN  \\\n",
      "0     1.0   0.0   0.0  0.0  0.0  1.0  0.0  0.0  0.0  1.0  ...   0.0    0.0   \n",
      "1     1.0   0.0   0.0  0.0  0.0  0.0  1.0  0.0  0.0  1.0  ...   0.0    1.0   \n",
      "2     1.0   0.0   0.0  0.0  0.0  0.0  1.0  0.0  0.0  1.0  ...   0.0    0.0   \n",
      "3     1.0   0.0   0.0  0.0  0.0  1.0  0.0  0.0  0.0  1.0  ...   0.0    0.0   \n",
      "4     1.0   0.0   0.0  0.0  0.0  0.0  1.0  0.0  0.0  1.0  ...   0.0    0.0   \n",
      "..    ...   ...   ...  ...  ...  ...  ...  ...  ...  ...  ...   ...    ...   \n",
      "602   0.0   0.0   1.0  0.0  0.0  0.0  1.0  0.0  0.0  1.0  ...   0.0    0.0   \n",
      "603   0.0   0.0   1.0  0.0  0.0  0.0  1.0  0.0  0.0  1.0  ...   0.0    0.0   \n",
      "604   0.0   0.0   1.0  0.0  0.0  0.0  1.0  0.0  0.0  1.0  ...   0.0    0.0   \n",
      "605   0.0   0.0   1.0  0.0  0.0  0.0  1.0  0.0  0.0  1.0  ...   0.0    0.0   \n",
      "606   0.0   0.0   1.0  0.0  0.0  1.0  0.0  0.0  0.0  1.0  ...   0.0    0.0   \n",
      "\n",
      "     NLPEN  HoMALE  3DCVR  DASP  STDS  BİGDATAARC  FİNDA  MADA  \n",
      "0      0.0     0.0    0.0   0.0   0.0         0.0    0.0   0.0  \n",
      "1      0.0     0.0    0.0   0.0   0.0         0.0    0.0   0.0  \n",
      "2      0.0     0.0    0.0   0.0   0.0         0.0    0.0   0.0  \n",
      "3      0.0     0.0    0.0   0.0   0.0         1.0    0.0   0.0  \n",
      "4      0.0     0.0    0.0   0.0   0.0         0.0    0.0   0.0  \n",
      "..     ...     ...    ...   ...   ...         ...    ...   ...  \n",
      "602    0.0     0.0    0.0   0.0   0.0         0.0    0.0   0.0  \n",
      "603    0.0     0.0    0.0   0.0   0.0         0.0    0.0   0.0  \n",
      "604    0.0     0.0    0.0   0.0   0.0         0.0    0.0   0.0  \n",
      "605    0.0     0.0    0.0   0.0   0.0         0.0    0.0   0.0  \n",
      "606    0.0     0.0    0.0   0.0   0.0         0.0    0.0   0.0  \n",
      "\n",
      "[607 rows x 61 columns]\n"
     ]
    }
   ],
   "source": [
    "t3 = pd.concat([t2,JOB],axis=1)\n",
    "print(t3)"
   ]
  },
  {
   "cell_type": "code",
   "execution_count": 55,
   "id": "c1bf3cb1",
   "metadata": {},
   "outputs": [
    {
     "name": "stdout",
     "output_type": "stream",
     "text": [
      "     2022  2021  2020   MI   SE   EN   EX   FT   PT   CT  ...  HoMALE  3DCVR  \\\n",
      "0     1.0   0.0   0.0  0.0  0.0  1.0  0.0  0.0  0.0  1.0  ...     0.0    0.0   \n",
      "1     1.0   0.0   0.0  0.0  0.0  0.0  1.0  0.0  0.0  1.0  ...     0.0    0.0   \n",
      "2     1.0   0.0   0.0  0.0  0.0  0.0  1.0  0.0  0.0  1.0  ...     0.0    0.0   \n",
      "3     1.0   0.0   0.0  0.0  0.0  1.0  0.0  0.0  0.0  1.0  ...     0.0    0.0   \n",
      "4     1.0   0.0   0.0  0.0  0.0  0.0  1.0  0.0  0.0  1.0  ...     0.0    0.0   \n",
      "..    ...   ...   ...  ...  ...  ...  ...  ...  ...  ...  ...     ...    ...   \n",
      "602   0.0   0.0   1.0  0.0  0.0  0.0  1.0  0.0  0.0  1.0  ...     0.0    0.0   \n",
      "603   0.0   0.0   1.0  0.0  0.0  0.0  1.0  0.0  0.0  1.0  ...     0.0    0.0   \n",
      "604   0.0   0.0   1.0  0.0  0.0  0.0  1.0  0.0  0.0  1.0  ...     0.0    0.0   \n",
      "605   0.0   0.0   1.0  0.0  0.0  0.0  1.0  0.0  0.0  1.0  ...     0.0    0.0   \n",
      "606   0.0   0.0   1.0  0.0  0.0  1.0  0.0  0.0  0.0  1.0  ...     0.0    0.0   \n",
      "\n",
      "     DASP  STDS  BİGDATAARC  FİNDA  MADA    0   50  100  \n",
      "0     0.0   0.0         0.0    0.0   0.0  1.0  0.0  0.0  \n",
      "1     0.0   0.0         0.0    0.0   0.0  1.0  0.0  0.0  \n",
      "2     0.0   0.0         0.0    0.0   0.0  0.0  1.0  0.0  \n",
      "3     0.0   0.0         1.0    0.0   0.0  1.0  0.0  0.0  \n",
      "4     0.0   0.0         0.0    0.0   0.0  0.0  1.0  0.0  \n",
      "..    ...   ...         ...    ...   ...  ...  ...  ...  \n",
      "602   0.0   0.0         0.0    0.0   0.0  0.0  0.0  1.0  \n",
      "603   0.0   0.0         0.0    0.0   0.0  0.0  0.0  1.0  \n",
      "604   0.0   0.0         0.0    0.0   0.0  1.0  0.0  0.0  \n",
      "605   0.0   0.0         0.0    0.0   0.0  0.0  0.0  1.0  \n",
      "606   0.0   0.0         0.0    0.0   0.0  0.0  0.0  1.0  \n",
      "\n",
      "[607 rows x 64 columns]\n"
     ]
    }
   ],
   "source": [
    "t4 = pd.concat([t3,Rratio],axis=1)\n",
    "print(t4)"
   ]
  },
  {
   "cell_type": "code",
   "execution_count": 56,
   "id": "fb5f9cc8",
   "metadata": {},
   "outputs": [
    {
     "name": "stdout",
     "output_type": "stream",
     "text": [
      "     2022  2021  2020   MI   SE   EN   EX   FT   PT   CT  ...   MT   IL   UA  \\\n",
      "0     1.0   0.0   0.0  0.0  0.0  1.0  0.0  0.0  0.0  1.0  ...  0.0  0.0  0.0   \n",
      "1     1.0   0.0   0.0  0.0  0.0  0.0  1.0  0.0  0.0  1.0  ...  0.0  0.0  0.0   \n",
      "2     1.0   0.0   0.0  0.0  0.0  0.0  1.0  0.0  0.0  1.0  ...  0.0  0.0  0.0   \n",
      "3     1.0   0.0   0.0  0.0  0.0  1.0  0.0  0.0  0.0  1.0  ...  0.0  0.0  0.0   \n",
      "4     1.0   0.0   0.0  0.0  0.0  0.0  1.0  0.0  0.0  1.0  ...  0.0  0.0  0.0   \n",
      "..    ...   ...   ...  ...  ...  ...  ...  ...  ...  ...  ...  ...  ...  ...   \n",
      "602   0.0   0.0   1.0  0.0  0.0  0.0  1.0  0.0  0.0  1.0  ...  0.0  0.0  0.0   \n",
      "603   0.0   0.0   1.0  0.0  0.0  0.0  1.0  0.0  0.0  1.0  ...  0.0  0.0  0.0   \n",
      "604   0.0   0.0   1.0  0.0  0.0  0.0  1.0  0.0  0.0  1.0  ...  0.0  0.0  0.0   \n",
      "605   0.0   0.0   1.0  0.0  0.0  0.0  1.0  0.0  0.0  1.0  ...  0.0  0.0  0.0   \n",
      "606   0.0   0.0   1.0  0.0  0.0  1.0  0.0  0.0  0.0  1.0  ...  0.0  0.0  0.0   \n",
      "\n",
      "      IQ   RO   HR   NZ   HU   HN   IE  \n",
      "0    0.0  0.0  0.0  0.0  0.0  0.0  0.0  \n",
      "1    0.0  0.0  0.0  0.0  0.0  0.0  0.0  \n",
      "2    0.0  0.0  0.0  0.0  0.0  0.0  0.0  \n",
      "3    0.0  0.0  0.0  0.0  0.0  0.0  0.0  \n",
      "4    0.0  0.0  0.0  0.0  0.0  1.0  0.0  \n",
      "..   ...  ...  ...  ...  ...  ...  ...  \n",
      "602  0.0  0.0  0.0  0.0  0.0  1.0  0.0  \n",
      "603  0.0  0.0  0.0  0.0  0.0  1.0  0.0  \n",
      "604  0.0  0.0  0.0  0.0  0.0  1.0  0.0  \n",
      "605  0.0  0.0  0.0  0.0  0.0  1.0  0.0  \n",
      "606  0.0  0.0  0.0  0.0  0.0  1.0  0.0  \n",
      "\n",
      "[607 rows x 114 columns]\n"
     ]
    }
   ],
   "source": [
    "t5 = pd.concat([t4,Cloc],axis=1)\n",
    "print(t5)"
   ]
  },
  {
   "cell_type": "code",
   "execution_count": 57,
   "id": "2e2207de",
   "metadata": {},
   "outputs": [
    {
     "name": "stdout",
     "output_type": "stream",
     "text": [
      "     2022  2021  2020   MI   SE   EN   EX   FT   PT   CT  ...   IQ   RO   HR  \\\n",
      "0     1.0   0.0   0.0  0.0  0.0  1.0  0.0  0.0  0.0  1.0  ...  0.0  0.0  0.0   \n",
      "1     1.0   0.0   0.0  0.0  0.0  0.0  1.0  0.0  0.0  1.0  ...  0.0  0.0  0.0   \n",
      "2     1.0   0.0   0.0  0.0  0.0  0.0  1.0  0.0  0.0  1.0  ...  0.0  0.0  0.0   \n",
      "3     1.0   0.0   0.0  0.0  0.0  1.0  0.0  0.0  0.0  1.0  ...  0.0  0.0  0.0   \n",
      "4     1.0   0.0   0.0  0.0  0.0  0.0  1.0  0.0  0.0  1.0  ...  0.0  0.0  0.0   \n",
      "..    ...   ...   ...  ...  ...  ...  ...  ...  ...  ...  ...  ...  ...  ...   \n",
      "602   0.0   0.0   1.0  0.0  0.0  0.0  1.0  0.0  0.0  1.0  ...  0.0  0.0  0.0   \n",
      "603   0.0   0.0   1.0  0.0  0.0  0.0  1.0  0.0  0.0  1.0  ...  0.0  0.0  0.0   \n",
      "604   0.0   0.0   1.0  0.0  0.0  0.0  1.0  0.0  0.0  1.0  ...  0.0  0.0  0.0   \n",
      "605   0.0   0.0   1.0  0.0  0.0  0.0  1.0  0.0  0.0  1.0  ...  0.0  0.0  0.0   \n",
      "606   0.0   0.0   1.0  0.0  0.0  1.0  0.0  0.0  0.0  1.0  ...  0.0  0.0  0.0   \n",
      "\n",
      "      NZ   HU   HN   IE    S    M    L  \n",
      "0    0.0  0.0  0.0  0.0  1.0  0.0  0.0  \n",
      "1    0.0  0.0  0.0  0.0  0.0  0.0  1.0  \n",
      "2    0.0  0.0  0.0  0.0  0.0  1.0  0.0  \n",
      "3    0.0  0.0  0.0  0.0  0.0  0.0  1.0  \n",
      "4    0.0  0.0  1.0  0.0  1.0  0.0  0.0  \n",
      "..   ...  ...  ...  ...  ...  ...  ...  \n",
      "602  0.0  0.0  1.0  0.0  0.0  1.0  0.0  \n",
      "603  0.0  0.0  1.0  0.0  0.0  1.0  0.0  \n",
      "604  0.0  0.0  1.0  0.0  0.0  1.0  0.0  \n",
      "605  0.0  0.0  1.0  0.0  0.0  1.0  0.0  \n",
      "606  0.0  0.0  1.0  0.0  1.0  0.0  0.0  \n",
      "\n",
      "[607 rows x 117 columns]\n"
     ]
    }
   ],
   "source": [
    "t6 = pd.concat([t5,Csize],axis=1)\n",
    "print(t6)"
   ]
  },
  {
   "cell_type": "markdown",
   "id": "09780d95",
   "metadata": {},
   "source": [
    "## Training"
   ]
  },
  {
   "cell_type": "code",
   "execution_count": 58,
   "id": "957c0330",
   "metadata": {},
   "outputs": [],
   "source": [
    "x_train,x_test,y_train,y_test = train_test_split(t6,salary_usd,test_size=0.40,random_state=0)"
   ]
  },
  {
   "cell_type": "code",
   "execution_count": 60,
   "id": "ca4e7b5b",
   "metadata": {
    "scrolled": true
   },
   "outputs": [
    {
     "data": {
      "text/html": [
       "<div>\n",
       "<style scoped>\n",
       "    .dataframe tbody tr th:only-of-type {\n",
       "        vertical-align: middle;\n",
       "    }\n",
       "\n",
       "    .dataframe tbody tr th {\n",
       "        vertical-align: top;\n",
       "    }\n",
       "\n",
       "    .dataframe thead th {\n",
       "        text-align: right;\n",
       "    }\n",
       "</style>\n",
       "<table border=\"1\" class=\"dataframe\">\n",
       "  <thead>\n",
       "    <tr style=\"text-align: right;\">\n",
       "      <th></th>\n",
       "      <th>2022</th>\n",
       "      <th>2021</th>\n",
       "      <th>2020</th>\n",
       "      <th>MI</th>\n",
       "      <th>SE</th>\n",
       "      <th>EN</th>\n",
       "      <th>EX</th>\n",
       "      <th>FT</th>\n",
       "      <th>PT</th>\n",
       "      <th>CT</th>\n",
       "      <th>...</th>\n",
       "      <th>IQ</th>\n",
       "      <th>RO</th>\n",
       "      <th>HR</th>\n",
       "      <th>NZ</th>\n",
       "      <th>HU</th>\n",
       "      <th>HN</th>\n",
       "      <th>IE</th>\n",
       "      <th>S</th>\n",
       "      <th>M</th>\n",
       "      <th>L</th>\n",
       "    </tr>\n",
       "  </thead>\n",
       "  <tbody>\n",
       "    <tr>\n",
       "      <th>155</th>\n",
       "      <td>0.0</td>\n",
       "      <td>1.0</td>\n",
       "      <td>0.0</td>\n",
       "      <td>0.0</td>\n",
       "      <td>0.0</td>\n",
       "      <td>0.0</td>\n",
       "      <td>1.0</td>\n",
       "      <td>0.0</td>\n",
       "      <td>0.0</td>\n",
       "      <td>1.0</td>\n",
       "      <td>...</td>\n",
       "      <td>0.0</td>\n",
       "      <td>0.0</td>\n",
       "      <td>0.0</td>\n",
       "      <td>0.0</td>\n",
       "      <td>0.0</td>\n",
       "      <td>0.0</td>\n",
       "      <td>0.0</td>\n",
       "      <td>1.0</td>\n",
       "      <td>0.0</td>\n",
       "      <td>0.0</td>\n",
       "    </tr>\n",
       "    <tr>\n",
       "      <th>562</th>\n",
       "      <td>0.0</td>\n",
       "      <td>0.0</td>\n",
       "      <td>1.0</td>\n",
       "      <td>0.0</td>\n",
       "      <td>0.0</td>\n",
       "      <td>0.0</td>\n",
       "      <td>1.0</td>\n",
       "      <td>0.0</td>\n",
       "      <td>0.0</td>\n",
       "      <td>1.0</td>\n",
       "      <td>...</td>\n",
       "      <td>0.0</td>\n",
       "      <td>0.0</td>\n",
       "      <td>0.0</td>\n",
       "      <td>0.0</td>\n",
       "      <td>0.0</td>\n",
       "      <td>1.0</td>\n",
       "      <td>0.0</td>\n",
       "      <td>0.0</td>\n",
       "      <td>1.0</td>\n",
       "      <td>0.0</td>\n",
       "    </tr>\n",
       "    <tr>\n",
       "      <th>185</th>\n",
       "      <td>0.0</td>\n",
       "      <td>1.0</td>\n",
       "      <td>0.0</td>\n",
       "      <td>0.0</td>\n",
       "      <td>0.0</td>\n",
       "      <td>1.0</td>\n",
       "      <td>0.0</td>\n",
       "      <td>0.0</td>\n",
       "      <td>0.0</td>\n",
       "      <td>1.0</td>\n",
       "      <td>...</td>\n",
       "      <td>0.0</td>\n",
       "      <td>0.0</td>\n",
       "      <td>0.0</td>\n",
       "      <td>0.0</td>\n",
       "      <td>0.0</td>\n",
       "      <td>0.0</td>\n",
       "      <td>0.0</td>\n",
       "      <td>0.0</td>\n",
       "      <td>1.0</td>\n",
       "      <td>0.0</td>\n",
       "    </tr>\n",
       "    <tr>\n",
       "      <th>101</th>\n",
       "      <td>0.0</td>\n",
       "      <td>1.0</td>\n",
       "      <td>0.0</td>\n",
       "      <td>0.0</td>\n",
       "      <td>0.0</td>\n",
       "      <td>0.0</td>\n",
       "      <td>1.0</td>\n",
       "      <td>0.0</td>\n",
       "      <td>0.0</td>\n",
       "      <td>1.0</td>\n",
       "      <td>...</td>\n",
       "      <td>0.0</td>\n",
       "      <td>0.0</td>\n",
       "      <td>0.0</td>\n",
       "      <td>0.0</td>\n",
       "      <td>0.0</td>\n",
       "      <td>1.0</td>\n",
       "      <td>0.0</td>\n",
       "      <td>1.0</td>\n",
       "      <td>0.0</td>\n",
       "      <td>0.0</td>\n",
       "    </tr>\n",
       "    <tr>\n",
       "      <th>97</th>\n",
       "      <td>0.0</td>\n",
       "      <td>1.0</td>\n",
       "      <td>0.0</td>\n",
       "      <td>0.0</td>\n",
       "      <td>0.0</td>\n",
       "      <td>1.0</td>\n",
       "      <td>0.0</td>\n",
       "      <td>0.0</td>\n",
       "      <td>0.0</td>\n",
       "      <td>1.0</td>\n",
       "      <td>...</td>\n",
       "      <td>0.0</td>\n",
       "      <td>0.0</td>\n",
       "      <td>0.0</td>\n",
       "      <td>0.0</td>\n",
       "      <td>0.0</td>\n",
       "      <td>1.0</td>\n",
       "      <td>0.0</td>\n",
       "      <td>1.0</td>\n",
       "      <td>0.0</td>\n",
       "      <td>0.0</td>\n",
       "    </tr>\n",
       "    <tr>\n",
       "      <th>...</th>\n",
       "      <td>...</td>\n",
       "      <td>...</td>\n",
       "      <td>...</td>\n",
       "      <td>...</td>\n",
       "      <td>...</td>\n",
       "      <td>...</td>\n",
       "      <td>...</td>\n",
       "      <td>...</td>\n",
       "      <td>...</td>\n",
       "      <td>...</td>\n",
       "      <td>...</td>\n",
       "      <td>...</td>\n",
       "      <td>...</td>\n",
       "      <td>...</td>\n",
       "      <td>...</td>\n",
       "      <td>...</td>\n",
       "      <td>...</td>\n",
       "      <td>...</td>\n",
       "      <td>...</td>\n",
       "      <td>...</td>\n",
       "      <td>...</td>\n",
       "    </tr>\n",
       "    <tr>\n",
       "      <th>277</th>\n",
       "      <td>0.0</td>\n",
       "      <td>1.0</td>\n",
       "      <td>0.0</td>\n",
       "      <td>0.0</td>\n",
       "      <td>0.0</td>\n",
       "      <td>0.0</td>\n",
       "      <td>1.0</td>\n",
       "      <td>0.0</td>\n",
       "      <td>0.0</td>\n",
       "      <td>1.0</td>\n",
       "      <td>...</td>\n",
       "      <td>0.0</td>\n",
       "      <td>0.0</td>\n",
       "      <td>0.0</td>\n",
       "      <td>0.0</td>\n",
       "      <td>0.0</td>\n",
       "      <td>0.0</td>\n",
       "      <td>0.0</td>\n",
       "      <td>1.0</td>\n",
       "      <td>0.0</td>\n",
       "      <td>0.0</td>\n",
       "    </tr>\n",
       "    <tr>\n",
       "      <th>9</th>\n",
       "      <td>1.0</td>\n",
       "      <td>0.0</td>\n",
       "      <td>0.0</td>\n",
       "      <td>0.0</td>\n",
       "      <td>0.0</td>\n",
       "      <td>0.0</td>\n",
       "      <td>1.0</td>\n",
       "      <td>0.0</td>\n",
       "      <td>0.0</td>\n",
       "      <td>1.0</td>\n",
       "      <td>...</td>\n",
       "      <td>0.0</td>\n",
       "      <td>0.0</td>\n",
       "      <td>0.0</td>\n",
       "      <td>0.0</td>\n",
       "      <td>0.0</td>\n",
       "      <td>0.0</td>\n",
       "      <td>0.0</td>\n",
       "      <td>0.0</td>\n",
       "      <td>0.0</td>\n",
       "      <td>1.0</td>\n",
       "    </tr>\n",
       "    <tr>\n",
       "      <th>359</th>\n",
       "      <td>0.0</td>\n",
       "      <td>0.0</td>\n",
       "      <td>1.0</td>\n",
       "      <td>0.0</td>\n",
       "      <td>0.0</td>\n",
       "      <td>0.0</td>\n",
       "      <td>1.0</td>\n",
       "      <td>0.0</td>\n",
       "      <td>0.0</td>\n",
       "      <td>1.0</td>\n",
       "      <td>...</td>\n",
       "      <td>0.0</td>\n",
       "      <td>0.0</td>\n",
       "      <td>0.0</td>\n",
       "      <td>0.0</td>\n",
       "      <td>0.0</td>\n",
       "      <td>0.0</td>\n",
       "      <td>0.0</td>\n",
       "      <td>0.0</td>\n",
       "      <td>1.0</td>\n",
       "      <td>0.0</td>\n",
       "    </tr>\n",
       "    <tr>\n",
       "      <th>192</th>\n",
       "      <td>0.0</td>\n",
       "      <td>1.0</td>\n",
       "      <td>0.0</td>\n",
       "      <td>0.0</td>\n",
       "      <td>0.0</td>\n",
       "      <td>1.0</td>\n",
       "      <td>0.0</td>\n",
       "      <td>0.0</td>\n",
       "      <td>0.0</td>\n",
       "      <td>1.0</td>\n",
       "      <td>...</td>\n",
       "      <td>0.0</td>\n",
       "      <td>0.0</td>\n",
       "      <td>0.0</td>\n",
       "      <td>0.0</td>\n",
       "      <td>0.0</td>\n",
       "      <td>0.0</td>\n",
       "      <td>0.0</td>\n",
       "      <td>0.0</td>\n",
       "      <td>0.0</td>\n",
       "      <td>1.0</td>\n",
       "    </tr>\n",
       "    <tr>\n",
       "      <th>559</th>\n",
       "      <td>0.0</td>\n",
       "      <td>0.0</td>\n",
       "      <td>1.0</td>\n",
       "      <td>0.0</td>\n",
       "      <td>0.0</td>\n",
       "      <td>0.0</td>\n",
       "      <td>1.0</td>\n",
       "      <td>0.0</td>\n",
       "      <td>0.0</td>\n",
       "      <td>1.0</td>\n",
       "      <td>...</td>\n",
       "      <td>0.0</td>\n",
       "      <td>0.0</td>\n",
       "      <td>0.0</td>\n",
       "      <td>0.0</td>\n",
       "      <td>0.0</td>\n",
       "      <td>1.0</td>\n",
       "      <td>0.0</td>\n",
       "      <td>0.0</td>\n",
       "      <td>1.0</td>\n",
       "      <td>0.0</td>\n",
       "    </tr>\n",
       "  </tbody>\n",
       "</table>\n",
       "<p>364 rows × 117 columns</p>\n",
       "</div>"
      ],
      "text/plain": [
       "     2022  2021  2020   MI   SE   EN   EX   FT   PT   CT  ...   IQ   RO   HR  \\\n",
       "155   0.0   1.0   0.0  0.0  0.0  0.0  1.0  0.0  0.0  1.0  ...  0.0  0.0  0.0   \n",
       "562   0.0   0.0   1.0  0.0  0.0  0.0  1.0  0.0  0.0  1.0  ...  0.0  0.0  0.0   \n",
       "185   0.0   1.0   0.0  0.0  0.0  1.0  0.0  0.0  0.0  1.0  ...  0.0  0.0  0.0   \n",
       "101   0.0   1.0   0.0  0.0  0.0  0.0  1.0  0.0  0.0  1.0  ...  0.0  0.0  0.0   \n",
       "97    0.0   1.0   0.0  0.0  0.0  1.0  0.0  0.0  0.0  1.0  ...  0.0  0.0  0.0   \n",
       "..    ...   ...   ...  ...  ...  ...  ...  ...  ...  ...  ...  ...  ...  ...   \n",
       "277   0.0   1.0   0.0  0.0  0.0  0.0  1.0  0.0  0.0  1.0  ...  0.0  0.0  0.0   \n",
       "9     1.0   0.0   0.0  0.0  0.0  0.0  1.0  0.0  0.0  1.0  ...  0.0  0.0  0.0   \n",
       "359   0.0   0.0   1.0  0.0  0.0  0.0  1.0  0.0  0.0  1.0  ...  0.0  0.0  0.0   \n",
       "192   0.0   1.0   0.0  0.0  0.0  1.0  0.0  0.0  0.0  1.0  ...  0.0  0.0  0.0   \n",
       "559   0.0   0.0   1.0  0.0  0.0  0.0  1.0  0.0  0.0  1.0  ...  0.0  0.0  0.0   \n",
       "\n",
       "      NZ   HU   HN   IE    S    M    L  \n",
       "155  0.0  0.0  0.0  0.0  1.0  0.0  0.0  \n",
       "562  0.0  0.0  1.0  0.0  0.0  1.0  0.0  \n",
       "185  0.0  0.0  0.0  0.0  0.0  1.0  0.0  \n",
       "101  0.0  0.0  1.0  0.0  1.0  0.0  0.0  \n",
       "97   0.0  0.0  1.0  0.0  1.0  0.0  0.0  \n",
       "..   ...  ...  ...  ...  ...  ...  ...  \n",
       "277  0.0  0.0  0.0  0.0  1.0  0.0  0.0  \n",
       "9    0.0  0.0  0.0  0.0  0.0  0.0  1.0  \n",
       "359  0.0  0.0  0.0  0.0  0.0  1.0  0.0  \n",
       "192  0.0  0.0  0.0  0.0  0.0  0.0  1.0  \n",
       "559  0.0  0.0  1.0  0.0  0.0  1.0  0.0  \n",
       "\n",
       "[364 rows x 117 columns]"
      ]
     },
     "execution_count": 60,
     "metadata": {},
     "output_type": "execute_result"
    }
   ],
   "source": [
    "x_train"
   ]
  },
  {
   "cell_type": "markdown",
   "id": "cdbcb0e5",
   "metadata": {},
   "source": [
    "## Scale"
   ]
  },
  {
   "cell_type": "code",
   "execution_count": 61,
   "id": "5d8b9823",
   "metadata": {},
   "outputs": [],
   "source": [
    "sc = StandardScaler()\n",
    "X_train = sc.fit_transform(x_train)\n",
    "X_test = sc.transform(x_test)"
   ]
  },
  {
   "cell_type": "markdown",
   "id": "f4e8f273",
   "metadata": {},
   "source": [
    "## Classification"
   ]
  },
  {
   "cell_type": "markdown",
   "id": "a3fda1de",
   "metadata": {},
   "source": [
    "### 1. Logistic Regression"
   ]
  },
  {
   "cell_type": "code",
   "execution_count": 68,
   "id": "9d562029",
   "metadata": {},
   "outputs": [
    {
     "name": "stderr",
     "output_type": "stream",
     "text": [
      "C:\\Users\\asus\\AppData\\Roaming\\Python\\Python39\\site-packages\\sklearn\\utils\\validation.py:1111: DataConversionWarning: A column-vector y was passed when a 1d array was expected. Please change the shape of y to (n_samples, ), for example using ravel().\n",
      "  y = column_or_1d(y, warn=True)\n"
     ]
    },
    {
     "name": "stdout",
     "output_type": "stream",
     "text": [
      "0.04938271604938271\n",
      "[140000  55000  75000 155000 162674  51064 160000  45807 150000 154600\n",
      "  99000 235000  90734 140000 127221  76940  90320 155000 100000 155000\n",
      "  68428  80000 200000  65000  90000 150000  24000  90000 102839  39263\n",
      " 220110  78791  45807  28399  75000  90320  99000  90320  78526 220110\n",
      "  96282 187442 110000  90320  90320 216000  52351  90700  41689  43966\n",
      "  90320 189650 105400  20000 215300 144000  74130 155000  18442 144000\n",
      "  80000  18442 215300 109024  90320  20000 109000  35590  80000  58000\n",
      " 189650 140000  75000  49646 138000 151000  10354  70139 154600 138000\n",
      "  61300 189650 105400  90320 150000 100000 155000  49646 266400  61300\n",
      "  20000 109024 140000 100000 152500  54742 153000 152500 170000  75000\n",
      " 155000  62649  29751 155000  28399  20000  48000  54742  40570  55000\n",
      "  46809  90320  77684  49646  75000 154600 140000 130000 141300 220000\n",
      " 120000 140000 235000  28609  90320 140000  74130  24342  90000 200000\n",
      " 130000 216000 160000 155000 154600 117789  82500  90320  75000 184700\n",
      "  90320 111775  75774  99100  61300 160000  55000 200000 130000 189650\n",
      "  90000  90000 122346 115500  45760 111775  50000  85000  90000  99100\n",
      " 266400  88654 140000  70139 155000 150000 154600 165000 220000 140000\n",
      " 117789 140000  76940 130000 140000  75000  45391  90320 155000 117789\n",
      " 160000 130000 225000  58000 200000 140000 100000  79197 220110  76940\n",
      "  63711 117789  58000  24000  93000 155000  78526 140000 100000 103000\n",
      " 150000  22611  63831  85000  78526  66022 155000 155000  65013  90000\n",
      "  90320  52351  85000 130000  78526 153000 160000  82500  45760 130000\n",
      " 220000  58000 100000 160000  62649  50180  99000  94564 135000  90320\n",
      " 155000 220000 140000  63711 130000 120000  39263  82500 140400 155000\n",
      " 266400  99000 117789]\n"
     ]
    },
    {
     "name": "stderr",
     "output_type": "stream",
     "text": [
      "C:\\Users\\asus\\AppData\\Roaming\\Python\\Python39\\site-packages\\sklearn\\linear_model\\_logistic.py:444: ConvergenceWarning: lbfgs failed to converge (status=1):\n",
      "STOP: TOTAL NO. of ITERATIONS REACHED LIMIT.\n",
      "\n",
      "Increase the number of iterations (max_iter) or scale the data as shown in:\n",
      "    https://scikit-learn.org/stable/modules/preprocessing.html\n",
      "Please also refer to the documentation for alternative solver options:\n",
      "    https://scikit-learn.org/stable/modules/linear_model.html#logistic-regression\n",
      "  n_iter_i = _check_optimize_result(\n"
     ]
    }
   ],
   "source": [
    "lr = LogisticRegression(random_state=0)\n",
    "lr.fit(X_train,y_train)\n",
    "y_pred = lr.predict(X_test)\n",
    "cm = accuracy_score(y_test,y_pred)\n",
    "print(cm)\n",
    "print(y_pred)"
   ]
  },
  {
   "cell_type": "markdown",
   "id": "525485d3",
   "metadata": {},
   "source": [
    "### 2. SVC"
   ]
  },
  {
   "cell_type": "code",
   "execution_count": 67,
   "id": "47252c63",
   "metadata": {},
   "outputs": [
    {
     "name": "stdout",
     "output_type": "stream",
     "text": [
      "0.012345679012345678\n",
      "[150000 200000 150000 150000 162674  51064 150000 150000 150000 150000\n",
      " 150000 150000 150000 150000   2859 150000 150000 150000 150000 150000\n",
      " 150000 150000 150000  65000 150000  86703 150000 150000 150000 150000\n",
      " 150000  78791 150000 150000 150000 150000 150000 150000 150000 150000\n",
      " 150000 150000 150000 150000 150000 150000 150000 150000  41689 150000\n",
      " 150000 150000 150000 150000 150000 150000  74130 150000  18442 150000\n",
      " 150000  62726 150000 109024 150000 150000 150000  35590 150000 150000\n",
      " 150000 150000 150000 150000 150000 150000 150000 150000 150000 150000\n",
      " 150000 150000 150000 150000 150000  69999 150000 150000 150000 150000\n",
      " 150000 150000 150000 150000 150000 150000 153000 150000 170000  75000\n",
      " 150000  62649 150000 150000 150000 150000 150000 150000 150000  55000\n",
      " 150000 150000 150000 150000  75000 150000 150000 150000 150000 150000\n",
      " 150000 150000 150000 150000 150000 150000  74130 150000 150000 150000\n",
      " 150000 150000 160000 150000 150000 150000 150000 150000  75000 184700\n",
      " 150000 150000 150000 150000 150000 150000 200000 200000 150000 150000\n",
      " 150000 150000 122346 150000 150000 150000 150000 150000 150000 150000\n",
      " 150000 150000 150000 150000 150000 150000 150000 150000 150000 150000\n",
      " 150000 150000 150000  18442 150000 150000  45391 150000 150000 150000\n",
      " 160000 150000 160000 150000 200000 150000 150000 110000 150000 150000\n",
      " 150000 150000 150000  24000 150000 150000 150000 150000 200000 150000\n",
      " 150000  22611  63831 150000 150000 150000 150000 150000 150000 150000\n",
      " 150000 150000 150000 150000 150000 153000 150000 150000 150000 150000\n",
      " 150000 150000 150000 160000 150000  50180 150000 150000 135000 150000\n",
      " 150000 150000 150000  63711 150000 150000 150000 150000 150000 150000\n",
      " 150000 150000 150000]\n"
     ]
    },
    {
     "name": "stderr",
     "output_type": "stream",
     "text": [
      "C:\\Users\\asus\\AppData\\Roaming\\Python\\Python39\\site-packages\\sklearn\\utils\\validation.py:1111: DataConversionWarning: A column-vector y was passed when a 1d array was expected. Please change the shape of y to (n_samples, ), for example using ravel().\n",
      "  y = column_or_1d(y, warn=True)\n"
     ]
    }
   ],
   "source": [
    "sv = SVC(kernel='poly')\n",
    "sv.fit(X_train,y_train)\n",
    "y_pred = sv.predict(X_test)\n",
    "acs = accuracy_score(y_test,y_pred)\n",
    "print(acs)\n",
    "print(y_pred)"
   ]
  },
  {
   "cell_type": "markdown",
   "id": "bc35db74",
   "metadata": {},
   "source": [
    "### KNN"
   ]
  },
  {
   "cell_type": "code",
   "execution_count": 69,
   "id": "074ffbd7",
   "metadata": {},
   "outputs": [
    {
     "name": "stdout",
     "output_type": "stream",
     "text": [
      "0.0205761316872428\n",
      "[140000  55000  99000 100000  54742 100000 140400  52351  80000 100000\n",
      "  90320 140000 135000 140000 210000  32974  90320 100000 100000 100000\n",
      " 130000  90320 150000 140000  90000 150000 130000  80000 200000  39263\n",
      " 160000 140000  24342 150000  90000  90320  90320  90320  39263 160000\n",
      " 200000  50000 135000  90320  90320 100000  39263 140000 140400 112900\n",
      "  90320  39263 140000  20000 140000 200000 140400 100000 200000 200000\n",
      "  80000  80000 140000  39263  90320 200000 135000  80000  99000  80000\n",
      "  99000 140000  99000  80000  24823 150000 200000  49646 100000 189650\n",
      "  90320  39263 140000  90320 150000 140000 100000  80000 140000  90320\n",
      "  99000  80000 140000  80000 140000  40481 120000 140000 150000  75000\n",
      " 100000  49646  80000 100000 140000  40481 135000  10354  40570  80000\n",
      " 200000  90320  29751  40481 140000 100000 140000 140000 130000 140000\n",
      " 140400  80000 135000  80000  90320 140000 130000 140400  80000 150000\n",
      " 140000 100000 135000 100000 100000  39263 130000  90320  80000  99000\n",
      "  90320 200000 135000  26005  90320 200000  80000 200000 140000  99000\n",
      "  90320  90000  80000  90320  39263 200000 120000  26005 100000  26005\n",
      " 140000 120000 140000  45760 100000 200000 100000 100000  80000 140000\n",
      "  39263 140000  20000 130000 140000  99000  29751  90320 100000  45807\n",
      " 130000 130000 160000  58000 130000 140000 140000 140000 160000  32974\n",
      " 210000 140400  75000  99000  80000 100000 200000 140000  80000  20000\n",
      " 150000  80000  24823 140000  39263 117789 100000 100000 100000  80000\n",
      "  90320  39263 140000 130000  39263  80000  39263 130000  45760 130000\n",
      " 140000  24823  80000 150000 120000 130000  90320  24823 140000  90320\n",
      " 100000 140000 140000  41689 140000  40481  39263  90000 140400 100000\n",
      " 140000  99000  45807]\n"
     ]
    },
    {
     "name": "stderr",
     "output_type": "stream",
     "text": [
      "C:\\Users\\asus\\AppData\\Roaming\\Python\\Python39\\site-packages\\sklearn\\neighbors\\_classification.py:200: DataConversionWarning: A column-vector y was passed when a 1d array was expected. Please change the shape of y to (n_samples,), for example using ravel().\n",
      "  return self._fit(X, y)\n"
     ]
    }
   ],
   "source": [
    "kn = KNeighborsClassifier(n_neighbors=20,metric='manhattan')\n",
    "kn.fit(X_train,y_train)\n",
    "y_pred = kn.predict(X_test)\n",
    "acsc = accuracy_score(y_test,y_pred)\n",
    "print(acsc)\n",
    "print(y_pred)"
   ]
  },
  {
   "cell_type": "markdown",
   "id": "41bd4f5f",
   "metadata": {},
   "source": [
    "### Naive Bayes"
   ]
  },
  {
   "cell_type": "code",
   "execution_count": 70,
   "id": "881db0d2",
   "metadata": {},
   "outputs": [
    {
     "name": "stdout",
     "output_type": "stream",
     "text": [
      "0.0411522633744856\n",
      "[123000  28609  75000 132320 162674  51064 180000  45807 185000 154600\n",
      "  99000 230000  90734 123000 127221  49461  90320 132320  80000 132320\n",
      " 150000 170000 112000  65000  90000 150000  24000  90000 102839  71982\n",
      "  54000  78791 150000  20000  58000  90320  99000  90320  78526  54000\n",
      "  96282 187442 110000  90320  90320 216000  39263  90700 160000  43966\n",
      "  90320 150000 105400  20000 140000 144000  74130 132320 100000 144000\n",
      "  90000 100000 215300  60000  90320  20000 109000  35590  10000 150000\n",
      " 189650 123000 130000  49646 150000 100000 100000  70139 154600 150000\n",
      "  61300 150000 105400  90320 180000 100000 132320  49646 144854 130000\n",
      "  20000  60000  50000 100000 152500  85000 153000 152500 170000  75000\n",
      " 132320  62649  20000 132320  20000  20000 150000 100000  40570  55000\n",
      "  46809  90320  77684  49646  75000 154600 123000 167000 141300 220000\n",
      " 230000 185000 230000  28609  90320 123000  74130  20000  90000 112000\n",
      " 167000 216000 160000 132320 154600 117789  20000  90320  75000 184700\n",
      "  90320   4000 130000  99100  61300 130000  55000 200000 167000 189650\n",
      " 100000   4000 122346 115500 150000 111775 100000  85000 160000  99100\n",
      " 144854  88654 123000  70139 132320 150000 154600 165000 220000 123000\n",
      " 117789 123000  49461 100000 123000 130000  45391  90320 132320 117789\n",
      " 160000 250000 160000  58000 200000 123000 100000  20000  54000  49461\n",
      "  63711 117789  58000  24000  93000 132320 130000 123000  55000  90000\n",
      " 150000  22611  63831  85000  78526  66022 132320 132320  87932 150000\n",
      "  90320  39263  85000  58000  78526 153000 160000  85000 150000 160000\n",
      " 220000 150000 100000 160000  62649  50180  99000  88654 135000  90320\n",
      " 132320 220000 123000  63711 167000 150000  71982  82500  95550 132320\n",
      " 144854  85000 117789]\n"
     ]
    },
    {
     "name": "stderr",
     "output_type": "stream",
     "text": [
      "C:\\Users\\asus\\AppData\\Roaming\\Python\\Python39\\site-packages\\sklearn\\utils\\validation.py:1111: DataConversionWarning: A column-vector y was passed when a 1d array was expected. Please change the shape of y to (n_samples, ), for example using ravel().\n",
      "  y = column_or_1d(y, warn=True)\n"
     ]
    }
   ],
   "source": [
    "nb = GaussianNB()\n",
    "nb.fit(X_train,y_train)\n",
    "y_pred = nb.predict(X_test)\n",
    "ac = accuracy_score(y_test,y_pred)\n",
    "print(ac)\n",
    "print(y_pred)"
   ]
  },
  {
   "cell_type": "markdown",
   "id": "19d41bca",
   "metadata": {},
   "source": [
    "### DECS TREE"
   ]
  },
  {
   "cell_type": "code",
   "execution_count": 71,
   "id": "c3b63934",
   "metadata": {},
   "outputs": [
    {
     "name": "stdout",
     "output_type": "stream",
     "text": [
      "0.0411522633744856\n",
      "[140000  28609  75000 100000 162674 100000 160000  45807 220000 154600\n",
      "  99000 100000  88654 140000  55000  49461  90320 100000 100000 100000\n",
      " 118000  80000 200000  65000 130026  35590   2859  90000  88654  39263\n",
      "  54000  90700  45807  88654  75000  90320  99000  90320  78526  54000\n",
      "  56256  60757  80000  90320  90320 216000  39263  90700 168000  43966\n",
      "  90320  39263 105400   2859 160000  55000  50180 100000 103000 144000\n",
      "  80000  76833 215300 113476  90320  31615 109000  45391 100000  55000\n",
      " 189650 140000  59102  49646 100000  95746  49461  32974 154600  65000\n",
      "  61300  39263 105400  90320 150000  10000 100000  49646 144854  61300\n",
      "  59102 100000  68428 185000 152500 100000 240000 152500  88654  54094\n",
      " 100000  18000  65013 100000  10000  32974 220000  10000  60000  76833\n",
      "  46809  90320 127221  49646 200000 154600 140000 130000 102100 220000\n",
      " 127221 185000  35590  55000  90320 140000  88654  94564  90000 200000\n",
      " 130000 216000 160000 100000 154600  52351   2859  90320 200000 184700\n",
      "  90320   4000  55000  99100  61300  74130  90000 185000 130000 189650\n",
      "  90000   4000 100000 115500 110037 111775 160000  95746 160000  99100\n",
      " 144854  40481 140000  40481 100000  54094 154600 150000 151000 140000\n",
      "  52351 140000  49461  50180 140000  59102 100000  90320 100000 117789\n",
      " 159000 141846  55000  55000 159000 140000 200000 113476  54000  49461\n",
      " 160000 117789  58000  85000  80000 100000 110037 140000  80000  29751\n",
      " 150000  76833  63831 135000  78526  66022 100000 100000  49461  90000\n",
      "  90320  39263 135000 160000  78526 153000 113476   2859 138000 130026\n",
      " 220000 100000 100000 160000 117104  50180  99000  32974 135000  90320\n",
      " 100000 220000 140000  63711 130000  40481  39263  82500  80000 100000\n",
      " 144854  91237 117789]\n"
     ]
    }
   ],
   "source": [
    "dc = DecisionTreeClassifier()\n",
    "dc.fit(X_train,y_train)\n",
    "y_pred = dc.predict(X_test)\n",
    "ac2 = accuracy_score(y_test,y_pred)\n",
    "print(ac2)\n",
    "print(y_pred)"
   ]
  },
  {
   "cell_type": "markdown",
   "id": "80ef6796",
   "metadata": {},
   "source": [
    "### RANDOM FOREST"
   ]
  },
  {
   "cell_type": "code",
   "execution_count": 72,
   "id": "e1dbd097",
   "metadata": {},
   "outputs": [
    {
     "name": "stderr",
     "output_type": "stream",
     "text": [
      "C:\\Users\\asus\\AppData\\Local\\Temp/ipykernel_5076/180484563.py:2: DataConversionWarning: A column-vector y was passed when a 1d array was expected. Please change the shape of y to (n_samples,), for example using ravel().\n",
      "  rf.fit(X_train,y_train)\n"
     ]
    },
    {
     "name": "stdout",
     "output_type": "stream",
     "text": [
      "0.04938271604938271\n",
      "[140000  18053  75000 155000 173762 100000 160000  45807 185000 154600\n",
      "  99000 220000  90734 140000  62651  49461  90320 155000  65000 155000\n",
      "  45760  93000 200000  65000  47282  46597   2859  90000  51064  39263\n",
      " 136000  90700  45807  28399  75000  90320  99000  90320  78526 136000\n",
      "  66022 127221 103000  90320  90320 216000  52351  90700 168000  43966\n",
      "  90320  52351 150260   2859 154600 144000 122346 155000 103000 144000\n",
      "  80000  10000 215300 109024  90320  22611 130000  46597 100000  55000\n",
      " 189650 140000  75000  49646 150000  90000  69741  70139 154600  71444\n",
      "  61300  52351 150260  90320 180000 100000 155000   4000 213120  61300\n",
      "  20000  91000 135000 100000 152500  20000 240000 152500  22611  75000\n",
      " 155000  62649  65013 155000  28399  51519  48000  76833 160000  76833\n",
      "  46809  90320  77684  20000 200000 154600 140000 130000 141300 220000\n",
      " 120000 185000  20000  24342  90320 140000  60000  24342  90000 200000\n",
      " 130000 216000 160000 155000 154600  52351  82500  90320 150000 184700\n",
      "  90320 111775  87738  99100  61300  54238  90000 185000 130000 189650\n",
      " 160000   4000 100000 135000  45760 111775 160000  26005 150000  99100\n",
      " 213120  40481 140000  62726 155000 109000 154600 150000 220000 140000\n",
      "  52351 140000  87932  54238 140000  75000 100000  90320 155000 117789\n",
      " 160000  79039 127221  90000  99100 140000 200000 113476 136000  49461\n",
      " 160000 117789  58000  24000  93000 155000  45391 140000  80000  63831\n",
      " 150000  30428  63831 216000  78526  96282 155000 155000  45807  90000\n",
      "  90320  52351 216000 157000  78526 153000 160000   2859  90000  75000\n",
      " 220000  62726 100000 160000  60757  50180  99000  94564 135000  90320\n",
      " 155000 220000 140000  63711 130000  40481  39263  82500  80000 155000\n",
      " 213120 117789 117789]\n"
     ]
    }
   ],
   "source": [
    "rf = RandomForestClassifier(random_state=0)\n",
    "rf.fit(X_train,y_train)\n",
    "y_pred = rf.predict(X_test)\n",
    "ac3 = accuracy_score(y_test,y_pred)\n",
    "print(ac3)\n",
    "print(y_pred)"
   ]
  },
  {
   "cell_type": "code",
   "execution_count": null,
   "id": "b1a410d7",
   "metadata": {},
   "outputs": [],
   "source": []
  }
 ],
 "metadata": {
  "kernelspec": {
   "display_name": "Python 3 (ipykernel)",
   "language": "python",
   "name": "python3"
  },
  "language_info": {
   "codemirror_mode": {
    "name": "ipython",
    "version": 3
   },
   "file_extension": ".py",
   "mimetype": "text/x-python",
   "name": "python",
   "nbconvert_exporter": "python",
   "pygments_lexer": "ipython3",
   "version": "3.9.8"
  }
 },
 "nbformat": 4,
 "nbformat_minor": 5
}
